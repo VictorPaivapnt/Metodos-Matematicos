{
 "cells": [
  {
   "cell_type": "markdown",
   "id": "8cff16f4",
   "metadata": {},
   "source": [
    "<h1>Lista 01"
   ]
  },
  {
   "cell_type": "markdown",
   "id": "6d3dc335",
   "metadata": {},
   "source": [
    "<h3>Victor Paiva Paulo Neto\n",
    "<h3> Questões : 1, 2(e), 2(a), 2(g), 2(c), 2(i)"
   ]
  },
  {
   "cell_type": "markdown",
   "id": "24f6709c",
   "metadata": {},
   "source": [
    "Escreva um programa e envie ao arquivo fonte ou um link do\n",
    "mesmo, o qual tenha como ponto de partida uma funcao a(n) que\n",
    "define o termo geral de uma sequˆencia numerica an = a(n) (use n\n",
    "como a variavel do programa), que sejam fornecidos dois n´umeros\n",
    "naturais nmin e nmax que definem um intervalo [nmim, nmax] para\n",
    "os ındices “plotados”e que tenha duas opcoes exclusivas de execucao:"
   ]
  },
  {
   "cell_type": "code",
   "execution_count": 1,
   "id": "f8ad46ad",
   "metadata": {},
   "outputs": [],
   "source": [
    "import matplotlib.pyplot as plt\n",
    "import math"
   ]
  },
  {
   "cell_type": "code",
   "execution_count": 2,
   "id": "bea1d145",
   "metadata": {},
   "outputs": [],
   "source": [
    "#funcao que gera a sequencia numerica de termo geral a(n) 2(a)\n",
    "def a(n):\n",
    "    return (n - 1) / (n + 1)"
   ]
  },
  {
   "cell_type": "code",
   "execution_count": 3,
   "id": "ea9b1ac0",
   "metadata": {},
   "outputs": [
    {
     "name": "stdout",
     "output_type": "stream",
     "text": [
      "nmin: 10, nmax: 200\n"
     ]
    }
   ],
   "source": [
    "#difinição de nmin e nmax\n",
    "nmin = int(input(\"Digite o nmin: \"))\n",
    "nmax = int(input(\"Digite nmax: \"))\n",
    "print(f\"nmin: {nmin}, nmax: {nmax}\")"
   ]
  },
  {
   "cell_type": "code",
   "execution_count": 4,
   "id": "0e342ac2",
   "metadata": {},
   "outputs": [
    {
     "name": "stdout",
     "output_type": "stream",
     "text": [
      "opcao escolhida: b\n"
     ]
    }
   ],
   "source": [
    "#separa nos casos em que o limite é e não é conhecido\n",
    "existeLimite = (input(\"eh conhecido se a sequencia converge para um limite L? (a se nao, b se sim): \"))\n",
    "print(f\"opcao escolhida: {existeLimite}\")"
   ]
  },
  {
   "cell_type": "code",
   "execution_count": 5,
   "id": "9d045ec3",
   "metadata": {},
   "outputs": [
    {
     "name": "stdout",
     "output_type": "stream",
     "text": [
      "\n",
      "    n       a(n)\n",
      "---------------\n",
      "   10   0.818182\n",
      "   11   0.833333\n",
      "   12   0.846154\n",
      "   13   0.857143\n",
      "   14   0.866667\n",
      "   15   0.875000\n",
      "   16   0.882353\n",
      "   17   0.888889\n",
      "   18   0.894737\n",
      "   19   0.900000\n",
      "   20   0.904762\n",
      "   21   0.909091\n",
      "   22   0.913043\n",
      "   23   0.916667\n",
      "   24   0.920000\n",
      "   25   0.923077\n",
      "   26   0.925926\n",
      "   27   0.928571\n",
      "   28   0.931034\n",
      "   29   0.933333\n",
      "   30   0.935484\n",
      "   31   0.937500\n",
      "   32   0.939394\n",
      "   33   0.941176\n",
      "   34   0.942857\n",
      "   35   0.944444\n",
      "   36   0.945946\n",
      "   37   0.947368\n",
      "   38   0.948718\n",
      "   39   0.950000\n",
      "   40   0.951220\n",
      "   41   0.952381\n",
      "   42   0.953488\n",
      "   43   0.954545\n",
      "   44   0.955556\n",
      "   45   0.956522\n",
      "   46   0.957447\n",
      "   47   0.958333\n",
      "   48   0.959184\n",
      "   49   0.960000\n",
      "   50   0.960784\n",
      "   51   0.961538\n",
      "   52   0.962264\n",
      "   53   0.962963\n",
      "   54   0.963636\n",
      "   55   0.964286\n",
      "   56   0.964912\n",
      "   57   0.965517\n",
      "   58   0.966102\n",
      "   59   0.966667\n",
      "   60   0.967213\n",
      "   61   0.967742\n",
      "   62   0.968254\n",
      "   63   0.968750\n",
      "   64   0.969231\n",
      "   65   0.969697\n",
      "   66   0.970149\n",
      "   67   0.970588\n",
      "   68   0.971014\n",
      "   69   0.971429\n",
      "   70   0.971831\n",
      "   71   0.972222\n",
      "   72   0.972603\n",
      "   73   0.972973\n",
      "   74   0.973333\n",
      "   75   0.973684\n",
      "   76   0.974026\n",
      "   77   0.974359\n",
      "   78   0.974684\n",
      "   79   0.975000\n",
      "   80   0.975309\n",
      "   81   0.975610\n",
      "   82   0.975904\n",
      "   83   0.976190\n",
      "   84   0.976471\n",
      "   85   0.976744\n",
      "   86   0.977011\n",
      "   87   0.977273\n",
      "   88   0.977528\n",
      "   89   0.977778\n",
      "   90   0.978022\n",
      "   91   0.978261\n",
      "   92   0.978495\n",
      "   93   0.978723\n",
      "   94   0.978947\n",
      "   95   0.979167\n",
      "   96   0.979381\n",
      "   97   0.979592\n",
      "   98   0.979798\n",
      "   99   0.980000\n",
      "  100   0.980198\n",
      "  101   0.980392\n",
      "  102   0.980583\n",
      "  103   0.980769\n",
      "  104   0.980952\n",
      "  105   0.981132\n",
      "  106   0.981308\n",
      "  107   0.981481\n",
      "  108   0.981651\n",
      "  109   0.981818\n",
      "  110   0.981982\n",
      "  111   0.982143\n",
      "  112   0.982301\n",
      "  113   0.982456\n",
      "  114   0.982609\n",
      "  115   0.982759\n",
      "  116   0.982906\n",
      "  117   0.983051\n",
      "  118   0.983193\n",
      "  119   0.983333\n",
      "  120   0.983471\n",
      "  121   0.983607\n",
      "  122   0.983740\n",
      "  123   0.983871\n",
      "  124   0.984000\n",
      "  125   0.984127\n",
      "  126   0.984252\n",
      "  127   0.984375\n",
      "  128   0.984496\n",
      "  129   0.984615\n",
      "  130   0.984733\n",
      "  131   0.984848\n",
      "  132   0.984962\n",
      "  133   0.985075\n",
      "  134   0.985185\n",
      "  135   0.985294\n",
      "  136   0.985401\n",
      "  137   0.985507\n",
      "  138   0.985612\n",
      "  139   0.985714\n",
      "  140   0.985816\n",
      "  141   0.985915\n",
      "  142   0.986014\n",
      "  143   0.986111\n",
      "  144   0.986207\n",
      "  145   0.986301\n",
      "  146   0.986395\n",
      "  147   0.986486\n",
      "  148   0.986577\n",
      "  149   0.986667\n",
      "  150   0.986755\n",
      "  151   0.986842\n",
      "  152   0.986928\n",
      "  153   0.987013\n",
      "  154   0.987097\n",
      "  155   0.987179\n",
      "  156   0.987261\n",
      "  157   0.987342\n",
      "  158   0.987421\n",
      "  159   0.987500\n",
      "  160   0.987578\n",
      "  161   0.987654\n",
      "  162   0.987730\n",
      "  163   0.987805\n",
      "  164   0.987879\n",
      "  165   0.987952\n",
      "  166   0.988024\n",
      "  167   0.988095\n",
      "  168   0.988166\n",
      "  169   0.988235\n",
      "  170   0.988304\n",
      "  171   0.988372\n",
      "  172   0.988439\n",
      "  173   0.988506\n",
      "  174   0.988571\n",
      "  175   0.988636\n",
      "  176   0.988701\n",
      "  177   0.988764\n",
      "  178   0.988827\n",
      "  179   0.988889\n",
      "  180   0.988950\n",
      "  181   0.989011\n",
      "  182   0.989071\n",
      "  183   0.989130\n",
      "  184   0.989189\n",
      "  185   0.989247\n",
      "  186   0.989305\n",
      "  187   0.989362\n",
      "  188   0.989418\n",
      "  189   0.989474\n",
      "  190   0.989529\n",
      "  191   0.989583\n",
      "  192   0.989637\n",
      "  193   0.989691\n",
      "  194   0.989744\n",
      "  195   0.989796\n",
      "  196   0.989848\n",
      "  197   0.989899\n",
      "  198   0.989950\n",
      "  199   0.990000\n",
      "  200   0.990050\n"
     ]
    }
   ],
   "source": [
    "valoresN = []\n",
    "valoresAn = []\n",
    "print(f\"\\n{'n':>5} {'a(n)':>10}\")\n",
    "print(\"-\" * 15)\n",
    "\n",
    "for n in range( nmin, nmax +1):\n",
    "    an = a(n)\n",
    "    print(f\"{n:>5} {an:>10.6f}\")\n",
    "    valoresN.append(n)\n",
    "    valoresAn.append(an)"
   ]
  },
  {
   "cell_type": "code",
   "execution_count": 6,
   "id": "b5e94a74",
   "metadata": {},
   "outputs": [
    {
     "data": {
      "image/png": "[encoded data removed]",
      "text/plain": [
       "<Figure size 800x500 with 1 Axes>"
      ]
     },
     "metadata": {},
     "output_type": "display_data"
    }
   ],
   "source": [
    "plt.figure(figsize=(8, 5))\n",
    "plt.plot(valoresN, valoresAn, 'bo-', label='a(n)')\n",
    "plt.xlabel('n')\n",
    "plt.ylabel('a(n)')\n",
    "plt.title('Gráfico da sequência')\n",
    "plt.grid(True)"
   ]
  },
  {
   "cell_type": "markdown",
   "id": "ee5c8cad",
   "metadata": {},
   "source": [
    "<h1>Limite: \n",
    "\n",
    "Como verificado, a sequencia possui limite e ele é igual a 1."
   ]
  },
  {
   "cell_type": "code",
   "execution_count": 7,
   "id": "29730dda",
   "metadata": {},
   "outputs": [],
   "source": [
    "#funcao que verifica se o modulo da diferença entre o termo geral e o limite é menor ou igual a epsilon \n",
    "def N_epsilon_is_true(x, L, epsilon):\n",
    "    if abs(x - L) <= epsilon:\n",
    "        return True\n",
    "    else:\n",
    "        return False"
   ]
  },
  {
   "cell_type": "code",
   "execution_count": 8,
   "id": "b8d14b02",
   "metadata": {},
   "outputs": [
    {
     "data": {
      "image/png": "[encoded data removed]",
      "text/plain": [
       "<Figure size 640x480 with 1 Axes>"
      ]
     },
     "metadata": {},
     "output_type": "display_data"
    }
   ],
   "source": [
    "if existeLimite == \"b\":\n",
    "    L = float(input(\"Digite o valor do limite L: \"))\n",
    "    epsilon = float(input(\"Digite a tolerância epsilon: \"))\n",
    "    N_epsilon = float(input(\"Digite o valor de N(epsilon): \"))\n",
    "    \n",
    "    Ne = N_epsilon_is_true(a(n), L, epsilon)\n",
    "\n",
    "    while Ne == False:\n",
    "        L = float(input(\"Digite o valor do limite L: \"))\n",
    "        epsilon = float(input(\"Digite a tolerância epsilon: \"))\n",
    "        N_epsilon = int(input(\"Digite o valor de N(epsilon): \"))\n",
    "        Ne = N_epsilon_is_true(a(n), L, epsilon)\n",
    "\n",
    "    plt.axhline(y=L, color='green', linestyle='--', label='y = L')\n",
    "    plt.axhline(y=L+epsilon, color='red', linestyle=':', label='y = L + ε')\n",
    "    plt.axhline(y=L-epsilon, color='red', linestyle=':', label='y = L - ε')\n",
    "\n",
    "    plt.legend()\n",
    "    plt.show()"
   ]
  }
 ],
 "metadata": {
  "kernelspec": {
   "display_name": "Python 3",
   "language": "python",
   "name": "python3"
  },
  "language_info": {
   "codemirror_mode": {
    "name": "ipython",
    "version": 3
   },
   "file_extension": ".py",
   "mimetype": "text/x-python",
   "name": "python",
   "nbconvert_exporter": "python",
   "pygments_lexer": "ipython3",
   "version": "3.12.5"
  }
 },
 "nbformat": 4,
 "nbformat_minor": 5
}
