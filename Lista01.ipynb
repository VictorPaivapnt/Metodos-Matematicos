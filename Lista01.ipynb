{
 "cells": [
  {
   "cell_type": "markdown",
   "id": "8cff16f4",
   "metadata": {},
   "source": [
    "<h1>Lista 01"
   ]
  },
  {
   "cell_type": "markdown",
   "id": "24f6709c",
   "metadata": {},
   "source": [
    "Escreva um programa e envie ao arquivo fonte ou um link do\n",
    "mesmo, o qual tenha como ponto de partida uma funcao a(n) que\n",
    "define o termo geral de uma sequˆencia numerica an = a(n) (use n\n",
    "como a variavel do programa), que sejam fornecidos dois n´umeros\n",
    "naturais nmin e nmax que definem um intervalo [nmim, nmax] para\n",
    "os ındices “plotados”e que tenha duas opcoes exclusivas de execucao:"
   ]
  },
  {
   "cell_type": "code",
   "execution_count": 3,
   "id": "f8ad46ad",
   "metadata": {},
   "outputs": [],
   "source": [
    "import matplotlib.pyplot as plt"
   ]
  },
  {
   "cell_type": "code",
   "execution_count": 24,
   "id": "9a151fa5",
   "metadata": {},
   "outputs": [],
   "source": [
    "#funcao que define a sequencia numerica de termo geral a(n)\n",
    "def a(n):\n",
    "    return 2 * n + 1"
   ]
  },
  {
   "cell_type": "code",
   "execution_count": 26,
   "id": "ea9b1ac0",
   "metadata": {},
   "outputs": [],
   "source": [
    "#difinição de nmin e nmax\n",
    "nmin = int(input(\"Digite o nmin: \"))\n",
    "nmax = int(input(\"Digite nmax: \"))"
   ]
  },
  {
   "cell_type": "code",
   "execution_count": 27,
   "id": "0e342ac2",
   "metadata": {},
   "outputs": [],
   "source": [
    "#separa nos casos em que o limite é e não é conhecido\n",
    "existeLimite = int(input(\"eh conhecido se a sequencia converge para um limite L? (1 se sim, 2 se nao): \"))"
   ]
  },
  {
   "cell_type": "code",
   "execution_count": 28,
   "id": "9d045ec3",
   "metadata": {},
   "outputs": [
    {
     "name": "stdout",
     "output_type": "stream",
     "text": [
      "\n",
      "    n       a(n)\n",
      "---------------\n",
      "    0   1.000000\n",
      "    1   3.000000\n",
      "    2   5.000000\n",
      "    3   7.000000\n",
      "    4   9.000000\n",
      "    5  11.000000\n",
      "    6  13.000000\n",
      "    7  15.000000\n",
      "    8  17.000000\n",
      "    9  19.000000\n",
      "   10  21.000000\n",
      "   11  23.000000\n",
      "   12  25.000000\n",
      "   13  27.000000\n",
      "   14  29.000000\n",
      "   15  31.000000\n",
      "   16  33.000000\n",
      "   17  35.000000\n",
      "   18  37.000000\n",
      "   19  39.000000\n",
      "   20  41.000000\n",
      "   21  43.000000\n",
      "   22  45.000000\n",
      "   23  47.000000\n",
      "   24  49.000000\n",
      "   25  51.000000\n",
      "   26  53.000000\n",
      "   27  55.000000\n",
      "   28  57.000000\n",
      "   29  59.000000\n",
      "   30  61.000000\n"
     ]
    }
   ],
   "source": [
    "\n",
    "valoresN = []\n",
    "valoresAn = []\n",
    "print(f\"\\n{'n':>5} {'a(n)':>10}\")\n",
    "print(\"-\" * 15)\n",
    "for n in range( nmin, nmax +1):\n",
    "    an = a(n)\n",
    "    print(f\"{n:>5} {an:>10.6f}\")\n",
    "    valoresN.append(n)\n",
    "    valoresAn.append(an)\n"
   ]
  },
  {
   "cell_type": "code",
   "execution_count": 29,
   "id": "b5e94a74",
   "metadata": {},
   "outputs": [
    {
     "data": {
      "image/png": "[encoded data removed]",
      "text/plain": [
       "<Figure size 800x500 with 1 Axes>"
      ]
     },
     "metadata": {},
     "output_type": "display_data"
    }
   ],
   "source": [
    "plt.figure(figsize=(8, 5))\n",
    "plt.plot(valoresN, valoresAn, 'bo-', label='a(n)')\n",
    "plt.xlabel('n')\n",
    "plt.ylabel('a(n)')\n",
    "plt.title('Gráfico da sequência')\n",
    "plt.grid(True)"
   ]
  },
  {
   "cell_type": "code",
   "execution_count": null,
   "id": "b8d14b02",
   "metadata": {},
   "outputs": [],
   "source": [
    "if existeLimite == 2:\n",
    "    L = float(input(\"Digite o valor do limite L: \"))\n",
    "    epsilon = float(input(\"Digite a tolerância epsilon: \"))\n",
    "    N_epsilon = float(input(\"Digite o valor de N(epsilon): \"))"
   ]
  },
  {
   "cell_type": "code",
   "execution_count": null,
   "id": "d050f8f1",
   "metadata": {},
   "outputs": [],
   "source": [
    "\n",
    "def N_epsilon_is_true(x, L, epsilon):\n",
    "    if (x - L) <= epsilon:\n",
    "        return True\n",
    "    else:\n",
    "        return False\n",
    "\n",
    "Ne = N_epsilon_is_true(a(n), L, epsilon)\n",
    "\n",
    "while Ne == False:\n",
    "    L = float(input(\"Digite o valor do limite L: \"))\n",
    "    epsilon = float(input(\"Digite a tolerância epsilon: \"))\n",
    "    N_epsilon = int(input(\"Digite o valor de N(epsilon): \"))\n",
    "    Ne = N_epsilon_is_true(a(n), L, epsilon)\n",
    "    \n"
   ]
  },
  {
   "cell_type": "code",
   "execution_count": 4,
   "id": "59c027fd",
   "metadata": {},
   "outputs": [
    {
     "ename": "NameError",
     "evalue": "name 'L' is not defined",
     "output_type": "error",
     "traceback": [
      "\u001b[1;31m---------------------------------------------------------------------------\u001b[0m",
      "\u001b[1;31mNameError\u001b[0m                                 Traceback (most recent call last)",
      "Cell \u001b[1;32mIn[4], line 1\u001b[0m\n\u001b[1;32m----> 1\u001b[0m plt\u001b[38;5;241m.\u001b[39maxhline(y\u001b[38;5;241m=\u001b[39m\u001b[43mL\u001b[49m, color\u001b[38;5;241m=\u001b[39m\u001b[38;5;124m'\u001b[39m\u001b[38;5;124mgreen\u001b[39m\u001b[38;5;124m'\u001b[39m, linestyle\u001b[38;5;241m=\u001b[39m\u001b[38;5;124m'\u001b[39m\u001b[38;5;124m--\u001b[39m\u001b[38;5;124m'\u001b[39m, label\u001b[38;5;241m=\u001b[39m\u001b[38;5;124m'\u001b[39m\u001b[38;5;124my = L\u001b[39m\u001b[38;5;124m'\u001b[39m)\n\u001b[0;32m      2\u001b[0m plt\u001b[38;5;241m.\u001b[39maxhline(y\u001b[38;5;241m=\u001b[39mL\u001b[38;5;241m+\u001b[39mepsilon, color\u001b[38;5;241m=\u001b[39m\u001b[38;5;124m'\u001b[39m\u001b[38;5;124mred\u001b[39m\u001b[38;5;124m'\u001b[39m, linestyle\u001b[38;5;241m=\u001b[39m\u001b[38;5;124m'\u001b[39m\u001b[38;5;124m:\u001b[39m\u001b[38;5;124m'\u001b[39m, label\u001b[38;5;241m=\u001b[39m\u001b[38;5;124m'\u001b[39m\u001b[38;5;124my = L + ε\u001b[39m\u001b[38;5;124m'\u001b[39m)\n\u001b[0;32m      3\u001b[0m plt\u001b[38;5;241m.\u001b[39maxhline(y\u001b[38;5;241m=\u001b[39mL\u001b[38;5;241m-\u001b[39mepsilon, color\u001b[38;5;241m=\u001b[39m\u001b[38;5;124m'\u001b[39m\u001b[38;5;124mred\u001b[39m\u001b[38;5;124m'\u001b[39m, linestyle\u001b[38;5;241m=\u001b[39m\u001b[38;5;124m'\u001b[39m\u001b[38;5;124m:\u001b[39m\u001b[38;5;124m'\u001b[39m, label\u001b[38;5;241m=\u001b[39m\u001b[38;5;124m'\u001b[39m\u001b[38;5;124my = L - ε\u001b[39m\u001b[38;5;124m'\u001b[39m)\n",
      "\u001b[1;31mNameError\u001b[0m: name 'L' is not defined"
     ]
    }
   ],
   "source": [
    "plt.axhline(y=L, color='green', linestyle='--', label='y = L')\n",
    "plt.axhline(y=L+epsilon, color='red', linestyle=':', label='y = L + ε')\n",
    "plt.axhline(y=L-epsilon, color='red', linestyle=':', label='y = L - ε')\n",
    "\n",
    "plt.legend()\n",
    "plt.show()"
   ]
  }
 ],
 "metadata": {
  "kernelspec": {
   "display_name": "Python 3",
   "language": "python",
   "name": "python3"
  },
  "language_info": {
   "codemirror_mode": {
    "name": "ipython",
    "version": 3
   },
   "file_extension": ".py",
   "mimetype": "text/x-python",
   "name": "python",
   "nbconvert_exporter": "python",
   "pygments_lexer": "ipython3",
   "version": "3.12.5"
  }
 },
 "nbformat": 4,
 "nbformat_minor": 5
}
