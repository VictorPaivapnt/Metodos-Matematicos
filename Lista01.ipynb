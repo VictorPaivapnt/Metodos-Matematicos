{
 "cells": [
  {
   "cell_type": "markdown",
   "id": "8cff16f4",
   "metadata": {},
   "source": [
    "<h1>Lista 01"
   ]
  },
  {
   "cell_type": "markdown",
   "id": "6d3dc335",
   "metadata": {},
   "source": [
    "<h3>Victor Paiva Paulo Neto\n",
    "<h3> Questões : 1, 2(e), 2(a), 2(g), 2(c), 2(i)"
   ]
  },
  {
   "cell_type": "markdown",
   "id": "24f6709c",
   "metadata": {},
   "source": [
    "Escreva um programa e envie ao arquivo fonte ou um link do\n",
    "mesmo, o qual tenha como ponto de partida uma funcao a(n) que\n",
    "define o termo geral de uma sequˆencia numerica an = a(n) (use n\n",
    "como a variavel do programa), que sejam fornecidos dois n´umeros\n",
    "naturais nmin e nmax que definem um intervalo [nmim, nmax] para\n",
    "os ındices “plotados”e que tenha duas opcoes exclusivas de execucao:"
   ]
  },
  {
   "cell_type": "code",
   "execution_count": 12,
   "id": "f8ad46ad",
   "metadata": {},
   "outputs": [],
   "source": [
    "import matplotlib.pyplot as plt\n",
    "import math"
   ]
  },
  {
   "cell_type": "code",
   "execution_count": 13,
   "id": "9a151fa5",
   "metadata": {},
   "outputs": [],
   "source": [
    "#funcao que define a sequencia numerica de termo geral e(n) 2(e)\n",
    "def e(n):\n",
    "    return ((n**2) / (n + 1)) - ((n**2) / (n + 2))\n",
    "\n",
    "#funcao que gera a sequencia numerica de termo geral a(n) 2(a)\n",
    "def a(n):\n",
    "    return (n - 1) / (n + 1)\n",
    "\n",
    "#funcao que gera a sequencia numerica de termo geral g(n) 2(g)\n",
    "def g(n):\n",
    "    numerador = math.sqrt(math.factorial(n)) + math.exp(2 * n)\n",
    "    demoninador =  5 * math.sqrt(math.factorial(n)) - math.exp(n)\n",
    "    return numerador/demoninador\n",
    "\n",
    "#funcao que gera a sequncia numerica de termo geral c(n) 2(c)\n",
    "def c(n):\n",
    "    return math.log(n) / math.exp(n)\n",
    "\n",
    "#funcao que gera a sequencia numerica de termo geral i(n) 2(i)\n",
    "def i(n):\n",
    "    return (n**2) / (n + 1)"
   ]
  },
  {
   "cell_type": "code",
   "execution_count": 14,
   "id": "ea9b1ac0",
   "metadata": {},
   "outputs": [],
   "source": [
    "#difinição de nmin e nmax\n",
    "nmin = int(input(\"Digite o nmin: \"))\n",
    "nmax = int(input(\"Digite nmax: \"))"
   ]
  },
  {
   "cell_type": "code",
   "execution_count": 29,
   "id": "725ac7c4",
   "metadata": {},
   "outputs": [
    {
     "name": "stdout",
     "output_type": "stream",
     "text": [
      "nmin: 10, nmax: 50\n"
     ]
    }
   ],
   "source": [
    "print(f\"nmin: {nmin}, nmax: {nmax}\")"
   ]
  },
  {
   "cell_type": "code",
   "execution_count": 17,
   "id": "0e342ac2",
   "metadata": {},
   "outputs": [],
   "source": [
    "#separa nos casos em que o limite é e não é conhecido\n",
    "existeLimite = (input(\"eh conhecido se a sequencia converge para um limite L? (a se sim, b se nao): \"))"
   ]
  },
  {
   "cell_type": "code",
   "execution_count": 30,
   "id": "a08b4a88",
   "metadata": {},
   "outputs": [
    {
     "name": "stdout",
     "output_type": "stream",
     "text": [
      "opcao escolhida: a\n"
     ]
    }
   ],
   "source": [
    "print(f\"opcao escolhida: {existeLimite}\")"
   ]
  },
  {
   "cell_type": "code",
   "execution_count": 18,
   "id": "9d045ec3",
   "metadata": {},
   "outputs": [
    {
     "name": "stdout",
     "output_type": "stream",
     "text": [
      "\n",
      "    n       a(n)\n",
      "---------------\n",
      "   10   0.818182\n",
      "   11   0.833333\n",
      "   12   0.846154\n",
      "   13   0.857143\n",
      "   14   0.866667\n",
      "   15   0.875000\n",
      "   16   0.882353\n",
      "   17   0.888889\n",
      "   18   0.894737\n",
      "   19   0.900000\n",
      "   20   0.904762\n",
      "   21   0.909091\n",
      "   22   0.913043\n",
      "   23   0.916667\n",
      "   24   0.920000\n",
      "   25   0.923077\n",
      "   26   0.925926\n",
      "   27   0.928571\n",
      "   28   0.931034\n",
      "   29   0.933333\n",
      "   30   0.935484\n",
      "   31   0.937500\n",
      "   32   0.939394\n",
      "   33   0.941176\n",
      "   34   0.942857\n",
      "   35   0.944444\n",
      "   36   0.945946\n",
      "   37   0.947368\n",
      "   38   0.948718\n",
      "   39   0.950000\n",
      "   40   0.951220\n",
      "   41   0.952381\n",
      "   42   0.953488\n",
      "   43   0.954545\n",
      "   44   0.955556\n",
      "   45   0.956522\n",
      "   46   0.957447\n",
      "   47   0.958333\n",
      "   48   0.959184\n",
      "   49   0.960000\n",
      "   50   0.960784\n"
     ]
    }
   ],
   "source": [
    "\n",
    "valoresN = []\n",
    "valoresAn = []\n",
    "print(f\"\\n{'n':>5} {'a(n)':>10}\")\n",
    "print(\"-\" * 15)\n",
    "for n in range( nmin, nmax +1):\n",
    "    an = a(n)\n",
    "    print(f\"{n:>5} {an:>10.6f}\")\n",
    "    valoresN.append(n)\n",
    "    valoresAn.append(an)\n"
   ]
  },
  {
   "cell_type": "code",
   "execution_count": 19,
   "id": "b5e94a74",
   "metadata": {},
   "outputs": [
    {
     "data": {
      "image/png": "[encoded data removed]",
      "text/plain": [
       "<Figure size 800x500 with 1 Axes>"
      ]
     },
     "metadata": {},
     "output_type": "display_data"
    }
   ],
   "source": [
    "plt.figure(figsize=(8, 5))\n",
    "plt.plot(valoresN, valoresAn, 'bo-', label='a(n)')\n",
    "plt.xlabel('n')\n",
    "plt.ylabel('a(n)')\n",
    "plt.title('Gráfico da sequência')\n",
    "plt.grid(True)"
   ]
  },
  {
   "cell_type": "markdown",
   "id": "ee5c8cad",
   "metadata": {},
   "source": [
    "<h1>Limite: \n",
    "\n",
    "Como verificado, a sequencia possui limite e ele é igual a 1."
   ]
  },
  {
   "cell_type": "code",
   "execution_count": 22,
   "id": "29730dda",
   "metadata": {},
   "outputs": [],
   "source": [
    "def N_epsilon_is_true(x, L, epsilon):\n",
    "    if (x - L) <= epsilon:\n",
    "        return True\n",
    "    else:\n",
    "        return False"
   ]
  },
  {
   "cell_type": "code",
   "execution_count": 28,
   "id": "b8d14b02",
   "metadata": {},
   "outputs": [],
   "source": [
    "if existeLimite == \"b\":\n",
    "    L = float(input(\"Digite o valor do limite L: \"))\n",
    "    epsilon = float(input(\"Digite a tolerância epsilon: \"))\n",
    "    N_epsilon = float(input(\"Digite o valor de N(epsilon): \"))\n",
    "    \n",
    "    Ne = N_epsilon_is_true(a(n), L, epsilon)\n",
    "\n",
    "    while Ne == False:\n",
    "        L = float(input(\"Digite o valor do limite L: \"))\n",
    "        epsilon = float(input(\"Digite a tolerância epsilon: \"))\n",
    "        N_epsilon = int(input(\"Digite o valor de N(epsilon): \"))\n",
    "        Ne = N_epsilon_is_true(a(n), L, epsilon)\n",
    "\n",
    "    plt.axhline(y=L, color='green', linestyle='--', label='y = L')\n",
    "    plt.axhline(y=L+epsilon, color='red', linestyle=':', label='y = L + ε')\n",
    "    plt.axhline(y=L-epsilon, color='red', linestyle=':', label='y = L - ε')\n",
    "\n",
    "    plt.legend()\n",
    "    plt.show()"
   ]
  }
 ],
 "metadata": {
  "kernelspec": {
   "display_name": "Python 3",
   "language": "python",
   "name": "python3"
  },
  "language_info": {
   "codemirror_mode": {
    "name": "ipython",
    "version": 3
   },
   "file_extension": ".py",
   "mimetype": "text/x-python",
   "name": "python",
   "nbconvert_exporter": "python",
   "pygments_lexer": "ipython3",
   "version": "3.12.5"
  }
 },
 "nbformat": 4,
 "nbformat_minor": 5
}
