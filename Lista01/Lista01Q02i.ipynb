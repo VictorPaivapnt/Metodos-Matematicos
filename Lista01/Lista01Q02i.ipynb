{
 "cells": [
  {
   "cell_type": "markdown",
   "id": "8cff16f4",
   "metadata": {},
   "source": [
    "<h1>Lista 01"
   ]
  },
  {
   "cell_type": "markdown",
   "id": "6d3dc335",
   "metadata": {},
   "source": [
    "<h3>Victor Paiva Paulo Neto\n",
    "<h3> Questões : 1, 2(e), 2(a), 2(g), 2(c), 2(i)"
   ]
  },
  {
   "cell_type": "markdown",
   "id": "24f6709c",
   "metadata": {},
   "source": [
    "Escreva um programa e envie ao arquivo fonte ou um link do\n",
    "mesmo, o qual tenha como ponto de partida uma funcao a(n) que\n",
    "define o termo geral de uma sequˆencia numerica an = a(n) (use n\n",
    "como a variavel do programa), que sejam fornecidos dois n´umeros\n",
    "naturais nmin e nmax que definem um intervalo [nmim, nmax] para\n",
    "os ındices “plotados”e que tenha duas opcoes exclusivas de execucao:"
   ]
  },
  {
   "cell_type": "code",
   "execution_count": 10,
   "id": "f8ad46ad",
   "metadata": {},
   "outputs": [],
   "source": [
    "import matplotlib.pyplot as plt\n",
    "import math"
   ]
  },
  {
   "cell_type": "code",
   "execution_count": 6,
   "id": "9a151fa5",
   "metadata": {},
   "outputs": [],
   "source": [
    "#funcao que gera a sequencia numerica de termo geral i(n) 2(i)\n",
    "def i(n):\n",
    "    return (n**2) / (n + 1)"
   ]
  },
  {
   "cell_type": "code",
   "execution_count": 3,
   "id": "ea9b1ac0",
   "metadata": {},
   "outputs": [
    {
     "name": "stdout",
     "output_type": "stream",
     "text": [
      "nmin: 10, nmax: 200\n"
     ]
    }
   ],
   "source": [
    "#difinição de nmin e nmax\n",
    "nmin = int(input(\"Digite o nmin: \"))\n",
    "nmax = int(input(\"Digite nmax: \"))\n",
    "print(f\"nmin: {nmin}, nmax: {nmax}\")"
   ]
  },
  {
   "cell_type": "code",
   "execution_count": 1,
   "id": "0e342ac2",
   "metadata": {},
   "outputs": [
    {
     "name": "stdout",
     "output_type": "stream",
     "text": [
      "opcao escolhida: \n"
     ]
    }
   ],
   "source": [
    "#separa nos casos em que o limite é e não é conhecido\n",
    "existeLimite = (input(\"eh conhecido se a sequencia converge para um limite L? (a se nao, b se sim): \"))\n",
    "print(f\"opcao escolhida: {existeLimite}\")"
   ]
  },
  {
   "cell_type": "code",
   "execution_count": 11,
   "id": "9d045ec3",
   "metadata": {},
   "outputs": [
    {
     "name": "stdout",
     "output_type": "stream",
     "text": [
      "\n",
      "    n       i(n)\n",
      "---------------\n",
      "   10   9.090909\n",
      "   11  10.083333\n",
      "   12  11.076923\n",
      "   13  12.071429\n",
      "   14  13.066667\n",
      "   15  14.062500\n",
      "   16  15.058824\n",
      "   17  16.055556\n",
      "   18  17.052632\n",
      "   19  18.050000\n",
      "   20  19.047619\n",
      "   21  20.045455\n",
      "   22  21.043478\n",
      "   23  22.041667\n",
      "   24  23.040000\n",
      "   25  24.038462\n",
      "   26  25.037037\n",
      "   27  26.035714\n",
      "   28  27.034483\n",
      "   29  28.033333\n",
      "   30  29.032258\n",
      "   31  30.031250\n",
      "   32  31.030303\n",
      "   33  32.029412\n",
      "   34  33.028571\n",
      "   35  34.027778\n",
      "   36  35.027027\n",
      "   37  36.026316\n",
      "   38  37.025641\n",
      "   39  38.025000\n",
      "   40  39.024390\n",
      "   41  40.023810\n",
      "   42  41.023256\n",
      "   43  42.022727\n",
      "   44  43.022222\n",
      "   45  44.021739\n",
      "   46  45.021277\n",
      "   47  46.020833\n",
      "   48  47.020408\n",
      "   49  48.020000\n",
      "   50  49.019608\n",
      "   51  50.019231\n",
      "   52  51.018868\n",
      "   53  52.018519\n",
      "   54  53.018182\n",
      "   55  54.017857\n",
      "   56  55.017544\n",
      "   57  56.017241\n",
      "   58  57.016949\n",
      "   59  58.016667\n",
      "   60  59.016393\n",
      "   61  60.016129\n",
      "   62  61.015873\n",
      "   63  62.015625\n",
      "   64  63.015385\n",
      "   65  64.015152\n",
      "   66  65.014925\n",
      "   67  66.014706\n",
      "   68  67.014493\n",
      "   69  68.014286\n",
      "   70  69.014085\n",
      "   71  70.013889\n",
      "   72  71.013699\n",
      "   73  72.013514\n",
      "   74  73.013333\n",
      "   75  74.013158\n",
      "   76  75.012987\n",
      "   77  76.012821\n",
      "   78  77.012658\n",
      "   79  78.012500\n",
      "   80  79.012346\n",
      "   81  80.012195\n",
      "   82  81.012048\n",
      "   83  82.011905\n",
      "   84  83.011765\n",
      "   85  84.011628\n",
      "   86  85.011494\n",
      "   87  86.011364\n",
      "   88  87.011236\n",
      "   89  88.011111\n",
      "   90  89.010989\n",
      "   91  90.010870\n",
      "   92  91.010753\n",
      "   93  92.010638\n",
      "   94  93.010526\n",
      "   95  94.010417\n",
      "   96  95.010309\n",
      "   97  96.010204\n",
      "   98  97.010101\n",
      "   99  98.010000\n",
      "  100  99.009901\n",
      "  101 100.009804\n",
      "  102 101.009709\n",
      "  103 102.009615\n",
      "  104 103.009524\n",
      "  105 104.009434\n",
      "  106 105.009346\n",
      "  107 106.009259\n",
      "  108 107.009174\n",
      "  109 108.009091\n",
      "  110 109.009009\n",
      "  111 110.008929\n",
      "  112 111.008850\n",
      "  113 112.008772\n",
      "  114 113.008696\n",
      "  115 114.008621\n",
      "  116 115.008547\n",
      "  117 116.008475\n",
      "  118 117.008403\n",
      "  119 118.008333\n",
      "  120 119.008264\n",
      "  121 120.008197\n",
      "  122 121.008130\n",
      "  123 122.008065\n",
      "  124 123.008000\n",
      "  125 124.007937\n",
      "  126 125.007874\n",
      "  127 126.007812\n",
      "  128 127.007752\n",
      "  129 128.007692\n",
      "  130 129.007634\n",
      "  131 130.007576\n",
      "  132 131.007519\n",
      "  133 132.007463\n",
      "  134 133.007407\n",
      "  135 134.007353\n",
      "  136 135.007299\n",
      "  137 136.007246\n",
      "  138 137.007194\n",
      "  139 138.007143\n",
      "  140 139.007092\n",
      "  141 140.007042\n",
      "  142 141.006993\n",
      "  143 142.006944\n",
      "  144 143.006897\n",
      "  145 144.006849\n",
      "  146 145.006803\n",
      "  147 146.006757\n",
      "  148 147.006711\n",
      "  149 148.006667\n",
      "  150 149.006623\n",
      "  151 150.006579\n",
      "  152 151.006536\n",
      "  153 152.006494\n",
      "  154 153.006452\n",
      "  155 154.006410\n",
      "  156 155.006369\n",
      "  157 156.006329\n",
      "  158 157.006289\n",
      "  159 158.006250\n",
      "  160 159.006211\n",
      "  161 160.006173\n",
      "  162 161.006135\n",
      "  163 162.006098\n",
      "  164 163.006061\n",
      "  165 164.006024\n",
      "  166 165.005988\n",
      "  167 166.005952\n",
      "  168 167.005917\n",
      "  169 168.005882\n",
      "  170 169.005848\n",
      "  171 170.005814\n",
      "  172 171.005780\n",
      "  173 172.005747\n",
      "  174 173.005714\n",
      "  175 174.005682\n",
      "  176 175.005650\n",
      "  177 176.005618\n",
      "  178 177.005587\n",
      "  179 178.005556\n",
      "  180 179.005525\n",
      "  181 180.005495\n",
      "  182 181.005464\n",
      "  183 182.005435\n",
      "  184 183.005405\n",
      "  185 184.005376\n",
      "  186 185.005348\n",
      "  187 186.005319\n",
      "  188 187.005291\n",
      "  189 188.005263\n",
      "  190 189.005236\n",
      "  191 190.005208\n",
      "  192 191.005181\n",
      "  193 192.005155\n",
      "  194 193.005128\n",
      "  195 194.005102\n",
      "  196 195.005076\n",
      "  197 196.005051\n",
      "  198 197.005025\n",
      "  199 198.005000\n",
      "  200 199.004975\n"
     ]
    }
   ],
   "source": [
    "valoresN = []\n",
    "valoresAn = []\n",
    "print(f\"\\n{'n':>5} {'i(n)':>10}\")\n",
    "print(\"-\" * 15)\n",
    "\n",
    "for n in range( nmin, nmax +1):\n",
    "    iden = i(n)\n",
    "    print(f\"{n:>5} {i(n):>10.6f}\")\n",
    "    valoresN.append(n)\n",
    "    valoresAn.append(iden)"
   ]
  },
  {
   "cell_type": "code",
   "execution_count": 12,
   "id": "b5e94a74",
   "metadata": {},
   "outputs": [
    {
     "data": {
      "image/png": "[encoded data removed]",
      "text/plain": [
       "<Figure size 800x500 with 1 Axes>"
      ]
     },
     "metadata": {},
     "output_type": "display_data"
    }
   ],
   "source": [
    "plt.figure(figsize=(8, 5))\n",
    "plt.plot(valoresN, valoresAn, 'bo-', label='a(n)')\n",
    "plt.xlabel('n')\n",
    "plt.ylabel('a(n)')\n",
    "plt.title('Gráfico da sequência')\n",
    "plt.grid(True)"
   ]
  },
  {
   "cell_type": "markdown",
   "id": "ee5c8cad",
   "metadata": {},
   "source": [
    "<h1>Limite: \n",
    "\n",
    "Como demonstra o grafico, a sequencia não possui limite."
   ]
  },
  {
   "cell_type": "code",
   "execution_count": 13,
   "id": "29730dda",
   "metadata": {},
   "outputs": [],
   "source": [
    "#funcao que verifica se o modulo da diferença entre o termo geral e o limite é menor ou igual a epsilon \n",
    "def N_epsilon_is_true(x, L, epsilon):\n",
    "    if abs(x - L) <= epsilon:\n",
    "        return True\n",
    "    else:\n",
    "        return False"
   ]
  },
  {
   "cell_type": "code",
   "execution_count": 14,
   "id": "b8d14b02",
   "metadata": {},
   "outputs": [],
   "source": [
    "if existeLimite == \"b\":\n",
    "    L = float(input(\"Digite o valor do limite L: \"))\n",
    "    epsilon = float(input(\"Digite a tolerância epsilon: \"))\n",
    "    N_epsilon = float(input(\"Digite o valor de N(epsilon): \"))\n",
    "    \n",
    "    Ne = N_epsilon_is_true(a(n), L, epsilon)\n",
    "\n",
    "    while Ne == False:\n",
    "        L = float(input(\"Digite o valor do limite L: \"))\n",
    "        epsilon = float(input(\"Digite a tolerância epsilon: \"))\n",
    "        N_epsilon = int(input(\"Digite o valor de N(epsilon): \"))\n",
    "        Ne = N_epsilon_is_true(a(n), L, epsilon)\n",
    "\n",
    "    plt.axhline(y=L, color='green', linestyle='--', label='y = L')\n",
    "    plt.axhline(y=L+epsilon, color='red', linestyle=':', label='y = L + ε')\n",
    "    plt.axhline(y=L-epsilon, color='red', linestyle=':', label='y = L - ε')\n",
    "\n",
    "    plt.legend()\n",
    "    plt.show()"
   ]
  }
 ],
 "metadata": {
  "kernelspec": {
   "display_name": "Python 3",
   "language": "python",
   "name": "python3"
  },
  "language_info": {
   "codemirror_mode": {
    "name": "ipython",
    "version": 3
   },
   "file_extension": ".py",
   "mimetype": "text/x-python",
   "name": "python",
   "nbconvert_exporter": "python",
   "pygments_lexer": "ipython3",
   "version": "3.12.5"
  }
 },
 "nbformat": 4,
 "nbformat_minor": 5
}
